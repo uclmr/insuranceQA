{
 "cells": [
  {
   "cell_type": "code",
   "execution_count": null,
   "metadata": {
    "collapsed": true
   },
   "outputs": [],
   "source": [
    "vocab = {}\n",
    "with open(\"vocabulary\") as f:\n",
    "    for line in f:\n",
    "        split = line.rstrip().split(\"\\t\")\n",
    "        vocab[split[0]] = split[1]"
   ]
  },
  {
   "cell_type": "code",
   "execution_count": null,
   "metadata": {
    "collapsed": true
   },
   "outputs": [],
   "source": [
    "answer_candidates = {}\n",
    "with open(\"answers.label.token_idx\") as f:\n",
    "    for line in f:\n",
    "        split = line.rstrip().split(\"\\t\")\n",
    "        id = int(split[0])\n",
    "        tokens = [vocab[t] for t in split[1].split(\" \")]\n",
    "        answer_candidates[id] = tokens\n",
    "# answer_candidates"
   ]
  },
  {
   "cell_type": "code",
   "execution_count": 10,
   "metadata": {
    "collapsed": false
   },
   "outputs": [
    {
     "data": {
      "text/plain": [
       "{'answers': [['not',\n",
       "   'many',\n",
       "   'sovereign',\n",
       "   'nation',\n",
       "   'have',\n",
       "   'retirement',\n",
       "   'plan',\n",
       "   'some',\n",
       "   'have',\n",
       "   'supplemental',\n",
       "   'retirement',\n",
       "   'benefit',\n",
       "   'declare',\n",
       "   '1',\n",
       "   'good',\n",
       "   'than',\n",
       "   'another',\n",
       "   'attempt',\n",
       "   'make',\n",
       "   'too',\n",
       "   'broad',\n",
       "   'a',\n",
       "   'statement',\n",
       "   'about',\n",
       "   'the',\n",
       "   'program',\n",
       "   'feature',\n",
       "   'since',\n",
       "   'everyone',\n",
       "   'vary',\n",
       "   'with',\n",
       "   'respect',\n",
       "   'to',\n",
       "   'need',\n",
       "   'its',\n",
       "   'very',\n",
       "   'difficult',\n",
       "   'say',\n",
       "   '1',\n",
       "   'country',\n",
       "   'program',\n",
       "   'if',\n",
       "   '1',\n",
       "   'exist',\n",
       "   'at',\n",
       "   'all',\n",
       "   'be',\n",
       "   'good',\n",
       "   'than',\n",
       "   'another']],\n",
       " 'question': ['which', 'country', 'have', 'the', 'good', 'retirement', 'plan']}"
      ]
     },
     "execution_count": 10,
     "metadata": {},
     "output_type": "execute_result"
    }
   ],
   "source": [
    "train_answers = []\n",
    "with open(\"question.train.token_idx.label\") as f:\n",
    "    for line in f:\n",
    "        split = line.rstrip().split(\"\\t\")\n",
    "        tokens = [vocab[t] for t in split[0].split(\" \")]\n",
    "        answers = [answer_candidates[int(i)] for i in split[1].split(\" \")]\n",
    "        instance = {\n",
    "            'question':tokens,\n",
    "            'answers':answers\n",
    "        }\n",
    "        train_answers.append(instance)\n",
    "\n",
    "train_answers[1]\n",
    "\n",
    "\n",
    "        "
   ]
  },
  {
   "cell_type": "code",
   "execution_count": 12,
   "metadata": {
    "collapsed": false
   },
   "outputs": [
    {
     "name": "stdout",
     "output_type": "stream",
     "text": [
      " \n",
      "be Life Insurance exempt from creditor in Connecticut\n",
      "  provided that you have name a primarybeneficiary in your life policy then yes the proceeds from that policy upon your death will pass directly to your beneficiary without any trouble from creditor in addition to name a beneficiary it be also a very good idea name a contingient beneficiary who will receive the proceeds if the primary benficiary can not for some reason receive them\n",
      "  life insurance be exempt from creditor in Connecticut if the beneficiary on the policy be not the estate if the insured person pass away with debt and the proceeds of his / her policy go to the estate either because the policy be set up that way or because the beneficiary be no longer live , then the life insurance money will go through probate where creditor can go after it if the beneficiary be a person they not can take it away from that person\n",
      " \n",
      "which country have the good retirement plan\n",
      "  not many sovereign nation have retirement plan some have supplemental retirement benefit declare 1 good than another attempt make too broad a statement about the program feature since everyone vary with respect to need its very difficult say 1 country program if 1 exist at all be good than another\n",
      " \n",
      "how do I purchase homeowner insurance\n",
      "  it simple really contact a broker like myself who be license in your state and start the process you will need all the information on your home such as square footage , foundation type , year build , security system , how many fireplace , story attach garage , etc and your agent or broker will help guide you the rest of the way\n",
      " \n",
      "when be Medicare primary or secondary\n",
      "  the factor that determine whether Medicare be primary or secondary be involved e.g. for a business that have over 20 employee eligible for health insurance Medicare be usually primary for those age 65 old if the business have under 20 employee the employer plan be primary you can go to this website find out if Medicare be primary secondary payer in your situation WEBSITELINK you can also call 1-800-MEDICARE ask about specific situation\n",
      " \n",
      "do smoking void Life Insurance\n",
      "  if you buy a life insurance policy as a nonsmoker legitimately meet the nonsmoker guideline for the rating that you get and then start smoke later your policy will not be voided in fact you will want hang onto it for as long as you can because the rate will be a lot low than the smoker rate you will get on your next policy\n",
      "  do smoking void life insurance it can in 1 way that I know of if you state you be a nonsmoker when actually you be a smoker in my state insurance be regulate state by state , your state may be different if you misstate your smoking status it can void the policy even after 2 year the state consider the contract null and void so just a refund of premium if you decide start smoke after you have purchase life insurance no penalty apply\n",
      " \n",
      "who own Valley Forge Life Insurance\n",
      "  CNA own Valley Forge insurance company for customer service or report a death of a person insured under a Valley Forge life insurance policy you can call CNA at 800-437-8854\n",
      " \n",
      "can I pay my Life Insurance with my HSA\n",
      "  can you pay your life premium with HSA fund at this time the answer be no. that do not mean in the future premium can be as we never know 1 year from the next what will be legislate and what will not insurance law be change in a state of flux these day nothing be impossible\n",
      "  no unfortunately it be not allow the IRS pay for your life insurance premium with your HSA ( Health Savings Account HSA fund can only be use for Long Term care insurance premium within limit cobra health insurance premium or health care premium pay while receive unemployment compensation include premium for spouse or dependent and premium pay Medicare if age 65+ but not premium for Medicare supplemental policy\n",
      " \n",
      "do Walmart offer Health Insurance employee\n",
      "  this be a good question whether or not any company offer employee coverage depend on your specific situation for example if you be full or part time there may be a waiting period , you may have wait until annual enrollment , your benefit department shall be able give you specific information also you may want look into get your own individual plan , it may cost less and you will not have worry about loose it if you leave your current employer\n",
      " \n",
      "when shall you buy Disability Insurance\n",
      "  disability insurance be best purchase when you be in good health and able identify the risk of lost income if you become disabled there be many affordable policy from top rate insurer that can be compare a full-time broker or financial planner be your good resource for information they can review your specific need and recommend a policy that meet those need at a price you can afford\n",
      " \n",
      "what be the good retirement savings plan\n",
      "  the good retirement plan be 1 that your employer give you it not do cost you anything the next good retirement plan be 1 that defer all of the gain and charge no tax on the distribution these plan be know as Roth plan the next good retirement plan be 1 that allow you deduct your contribution as you make them from your taxable income it charge income tax on the entire distribution when you start take it these be all income tax plan regulate under the IRS regulation\n",
      "  what be the good retirement plan anyone you happen choose and consistently fund there be a lot of prefect plan that go undo or unfunded leave as a last thing do if there be money leave over the habit of save be the absolute good retirement plan a person can have ... get the habit and the rest turn out ok without the habit tax break , tax advantage and tax free do not matter\n",
      "  the good savings plan , not investment plan be generally a product suitability item that need be profile the product suitability for participate whole life or current assumption universal life insurance as an income source for retirement be a long term saver with low to 0 risk tolerance no less than a 15 year annual premium commitment if design comply with Tamra and maximum cash accumulation these life insurance policy can deliver tax advantage income as long as the policy be keep in force for the life of the insured\n"
     ]
    }
   ],
   "source": [
    "for instance in train_answers[0:10]:\n",
    "    print(\" \")\n",
    "    print(\" \".join(instance['question']))\n",
    "    for answer in instance['answers']:\n",
    "        answer_text = \" \".join(answer) \n",
    "        print(\"  \" + answer_text)\n"
   ]
  }
 ],
 "metadata": {
  "kernelspec": {
   "display_name": "Python 3",
   "language": "python",
   "name": "python3"
  },
  "language_info": {
   "codemirror_mode": {
    "name": "ipython",
    "version": 3
   },
   "file_extension": ".py",
   "mimetype": "text/x-python",
   "name": "python",
   "nbconvert_exporter": "python",
   "pygments_lexer": "ipython3",
   "version": "3.5.1"
  }
 },
 "nbformat": 4,
 "nbformat_minor": 0
}
